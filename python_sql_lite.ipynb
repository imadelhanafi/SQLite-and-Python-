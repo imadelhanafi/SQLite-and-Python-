{
 "cells": [
  {
   "cell_type": "code",
   "execution_count": 1,
   "metadata": {
    "scrolled": true
   },
   "outputs": [
    {
     "name": "stderr",
     "output_type": "stream",
     "text": [
      "C:\\Program Files\\Anaconda3\\lib\\site-packages\\IPython\\core\\interactiveshell.py:2717: DtypeWarning: Columns (10) have mixed types. Specify dtype option on import or set low_memory=False.\n",
      "  interactivity=interactivity, compiler=compiler, result=result)\n"
     ]
    },
    {
     "name": "stdout",
     "output_type": "stream",
     "text": [
      "Loading file...\n",
      "Loading file...\n",
      "Loading file...\n",
      "Loading file...\n",
      "Loading file...\n",
      "Loading file...\n",
      "Loading file...\n",
      "Loading file...\n",
      "Loading file...\n",
      "Loading file...\n",
      "Loading file...\n",
      "Loading file...\n",
      "Loading file...\n",
      "Loading file...\n",
      "Loading file...\n",
      "Loading file...\n",
      "Loading file...\n",
      "Loading file...\n",
      "Loading file...\n",
      "Loading file...\n",
      "Loading file...\n",
      "Loading file...\n",
      "Loading file...\n",
      "Loading file...\n",
      "Loading file...\n",
      "Loading file...\n",
      "Loading file...\n",
      "Loading file...\n",
      "Loading file...\n",
      "Loading file...\n",
      "Loading file...\n",
      "Loading file...\n",
      "Loading file...\n",
      "Loading file...\n",
      "Loading file...\n",
      "Loading file...\n",
      "Loading file...\n",
      "Loading file...\n",
      "Loading file...\n",
      "Loading file...\n",
      "Loading file...\n",
      "Loading file...\n",
      "Loading file...\n",
      "Loading file...\n",
      "Loading file...\n",
      "Loading file...\n",
      "Loading file...\n",
      "Loading file...\n"
     ]
    },
    {
     "name": "stderr",
     "output_type": "stream",
     "text": [
      "C:\\Program Files\\Anaconda3\\lib\\site-packages\\IPython\\core\\interactiveshell.py:2717: DtypeWarning: Columns (29) have mixed types. Specify dtype option on import or set low_memory=False.\n",
      "  interactivity=interactivity, compiler=compiler, result=result)\n"
     ]
    },
    {
     "name": "stdout",
     "output_type": "stream",
     "text": [
      "Loading file...\n",
      "Loading file...\n",
      "Loading file...\n",
      "Loading file...\n"
     ]
    }
   ],
   "source": [
    "import pandas as pd\n",
    "from sqlalchemy import create_engine # database connection\n",
    "import datetime as dt\n",
    "from IPython.display import display\n",
    "\n",
    "\n",
    "# Create data base file\n",
    "\n",
    "disk_engine = create_engine('sqlite:///data_base.db')\n",
    "\n",
    "\n",
    "###### Read the file N1\n",
    "# Read the CSV to the DB by chunksize\n",
    "\n",
    "start = dt.datetime.now()\n",
    "chunksize = 20000\n",
    "j = 0\n",
    "index_start = 1\n",
    "\n",
    "for df in pd.read_csv('file1.csv', chunksize=chunksize, iterator=True, encoding=\"ISO-8859-1\"):   \n",
    "    #df['ChargeOffDate'] = pd.to_datetime(df['ChargeOffDate']) # Convert to datetimes\n",
    "    #df['ApprovalDate'] = pd.to_datetime(df['ApprovalDate'])\n",
    "    df.index += index_start\n",
    "    j+=1\n",
    "    print ('Loading file...',j*chunksize)\n",
    "    # data the name of the table in the data base\n",
    "    df.to_sql('data', disk_engine, if_exists='append')\n",
    "    index_start = df.index[-1] + 1\n",
    "\n",
    "# Read the name of the tables in the DB\n",
    "\n",
    "pd.read_sql_query(\"SELECT name FROM sqlite_master WHERE type='table' ORDER BY name\",disk_engine)\n",
    "   \n",
    "    \n",
    "##### SQL command\n",
    "# df will contain the result of SQL command\n",
    "df = pd.read_sql_query('SELECT data.GrossApproval, data.ApprovalDate, data.TermInMonths, data.ChargeOffDate, data.GrossChargeOffAmount, data.ApprovalFiscalYear, data.Program FROM data WHERE (((data.TermInMonths)>0 And (data.TermInMonths)<=24))', disk_engine)\n",
    "# Add df to a table called new\n",
    "df.to_sql('new', disk_engine, if_exists='append')\n",
    "# Export df\n",
    "df.to_csv('results.csv', sep=';', encoding='utf-8')\n",
    "\n",
    "\n"
   ]
  },
  {
   "cell_type": "code",
   "execution_count": 5,
   "metadata": {
    "collapsed": true
   },
   "outputs": [],
   "source": [
    "def add_files(file_name,database,table):\n",
    "    #file_name : 'name.csv'\n",
    "    #database ; disk_engine\n",
    "    #table : 'data'\n",
    "    \n",
    "    chunksize = 20000\n",
    "    j = 0\n",
    "    index_start = 1\n",
    "    for df in pd.read_csv(file_name, chunksize=chunksize, iterator=True, encoding=\"ISO-8859-1\"):\n",
    "        df.index += index_start\n",
    "        j+=1\n",
    "        print ('Loading file...',j*chunksize)\n",
    "        # 'Append' to add it to the same table at the end\n",
    "        df.to_sql(table, database, if_exists='append')\n",
    "        index_start = df.index[-1] + 1\n",
    "        "
   ]
  },
  {
   "cell_type": "code",
   "execution_count": 9,
   "metadata": {},
   "outputs": [],
   "source": [
    "#Add a second file to \n",
    "add_files('7a_504_DataFile_7A_CY1990_CY1999.csv',disk_engine,'data')"
   ]
  },
  {
   "cell_type": "code",
   "execution_count": null,
   "metadata": {
    "collapsed": true
   },
   "outputs": [],
   "source": []
  }
 ],
 "metadata": {
  "kernelspec": {
   "display_name": "Python 2",
   "language": "python",
   "name": "python2"
  },
  "language_info": {
   "codemirror_mode": {
    "name": "ipython",
    "version": 2
   },
   "file_extension": ".py",
   "mimetype": "text/x-python",
   "name": "python",
   "nbconvert_exporter": "python",
   "pygments_lexer": "ipython2",
   "version": "2.7.13"
  }
 },
 "nbformat": 4,
 "nbformat_minor": 1
}
